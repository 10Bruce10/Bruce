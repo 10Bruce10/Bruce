{
  "nbformat": 4,
  "nbformat_minor": 0,
  "metadata": {
    "colab": {
      "name": "Project_1_UserChurn.ipynb",
      "provenance": [],
      "collapsed_sections": []
    },
    "kernelspec": {
      "name": "python3",
      "display_name": "Python 3"
    }
  },
  "cells": [
    {
      "cell_type": "markdown",
      "metadata": {
        "colab_type": "text",
        "id": "R88Ms0MTi0Ma"
      },
      "source": [
        "# User Churn Prediction\n",
        "\n",
        "\n"
      ]
    },
    {
      "cell_type": "markdown",
      "metadata": {
        "colab_type": "text",
        "id": "bO94-bXZi0Md"
      },
      "source": [
        "## Outline"
      ]
    },
    {
      "cell_type": "markdown",
      "metadata": {
        "colab_type": "text",
        "id": "SIvRSRqAi0Md"
      },
      "source": [
        "\n",
        "* [Part 1: Data Exploration](#Part-1:-Data-Exploration)\n",
        "* [Part 2: Feature Preprocessing](#Part-2:-Feature-Preprocessing)\n",
        "* [Part 3: Model Training and Results Evaluation](#Part-3:-Model-Training-and-Result-Evaluation)\n",
        "* [Part 4: Feature Importance](#Part-4:-Feature-Selection)"
      ]
    },
    {
      "cell_type": "markdown",
      "metadata": {
        "colab_type": "text",
        "id": "TUoI2S7Bi6iR"
      },
      "source": [
        "# Part 0: Setup Google Drive Environment"
      ]
    },
    {
      "cell_type": "code",
      "metadata": {
        "colab_type": "code",
        "id": "neechzbWi7rV",
        "colab": {}
      },
      "source": [
        "!pip install -U -q PyDrive\n",
        "\n",
        "from pydrive.auth import GoogleAuth\n",
        "from pydrive.drive import GoogleDrive\n",
        "from google.colab import auth\n",
        "from oauth2client.client import GoogleCredentials\n",
        "\n",
        "auth.authenticate_user()\n",
        "gauth = GoogleAuth()\n",
        "gauth.credentials = GoogleCredentials.get_application_default()\n",
        "drive = GoogleDrive(gauth)"
      ],
      "execution_count": 0,
      "outputs": []
    },
    {
      "cell_type": "code",
      "metadata": {
        "colab_type": "code",
        "id": "UScKyL2TjARW",
        "colab": {}
      },
      "source": [
        "link = 'https://drive.google.com/open?id=1tf2neoLxJDTQtiVtXhL3OOJCJRDvE8KN'\n",
        "fluff, id = link.split('=')\n",
        "file = drive.CreateFile({'id':id}) \n",
        "file.GetContentFile('churn.csv')  "
      ],
      "execution_count": 0,
      "outputs": []
    },
    {
      "cell_type": "markdown",
      "metadata": {
        "colab_type": "text",
        "id": "a6bG_gAPi0Me"
      },
      "source": [
        "# Part 1: Data Exploration"
      ]
    },
    {
      "cell_type": "markdown",
      "metadata": {
        "colab_type": "text",
        "id": "bspx2K6fi0Me"
      },
      "source": [
        "### Part 1.1: Understand the Raw Dataset"
      ]
    },
    {
      "cell_type": "code",
      "metadata": {
        "colab_type": "code",
        "id": "kuTHKjk-i0Mf",
        "outputId": "f25106ca-1c83-4c25-a939-a871ae1fcc8f",
        "colab": {
          "base_uri": "https://localhost:8080/",
          "height": 224
        }
      },
      "source": [
        "import warnings \n",
        "import pandas as pd\n",
        "import numpy as np\n",
        "warnings.filterwarnings('ignore')\n",
        "churn_df = pd.read_csv('churn.csv')\n",
        "churn_df.head()"
      ],
      "execution_count": 0,
      "outputs": [
        {
          "output_type": "execute_result",
          "data": {
            "text/html": [
              "<div>\n",
              "<style scoped>\n",
              "    .dataframe tbody tr th:only-of-type {\n",
              "        vertical-align: middle;\n",
              "    }\n",
              "\n",
              "    .dataframe tbody tr th {\n",
              "        vertical-align: top;\n",
              "    }\n",
              "\n",
              "    .dataframe thead th {\n",
              "        text-align: right;\n",
              "    }\n",
              "</style>\n",
              "<table border=\"1\" class=\"dataframe\">\n",
              "  <thead>\n",
              "    <tr style=\"text-align: right;\">\n",
              "      <th></th>\n",
              "      <th>state</th>\n",
              "      <th>account_length</th>\n",
              "      <th>area_code</th>\n",
              "      <th>phone_number</th>\n",
              "      <th>intl_plan</th>\n",
              "      <th>voice_mail_plan</th>\n",
              "      <th>number_vmail_messages</th>\n",
              "      <th>total_day_minutes</th>\n",
              "      <th>total_day_calls</th>\n",
              "      <th>total_day_charge</th>\n",
              "      <th>total_eve_minutes</th>\n",
              "      <th>total_eve_calls</th>\n",
              "      <th>total_eve_charge</th>\n",
              "      <th>total_night_minutes</th>\n",
              "      <th>total_night_calls</th>\n",
              "      <th>total_night_charge</th>\n",
              "      <th>total_intl_minutes</th>\n",
              "      <th>total_intl_calls</th>\n",
              "      <th>total_intl_charge</th>\n",
              "      <th>number_customer_service_calls</th>\n",
              "      <th>churned</th>\n",
              "    </tr>\n",
              "  </thead>\n",
              "  <tbody>\n",
              "    <tr>\n",
              "      <th>0</th>\n",
              "      <td>KS</td>\n",
              "      <td>128</td>\n",
              "      <td>415</td>\n",
              "      <td>382-4657</td>\n",
              "      <td>no</td>\n",
              "      <td>yes</td>\n",
              "      <td>25</td>\n",
              "      <td>265.1</td>\n",
              "      <td>110</td>\n",
              "      <td>45.07</td>\n",
              "      <td>197.4</td>\n",
              "      <td>99</td>\n",
              "      <td>16.78</td>\n",
              "      <td>244.7</td>\n",
              "      <td>91</td>\n",
              "      <td>11.01</td>\n",
              "      <td>10.0</td>\n",
              "      <td>3</td>\n",
              "      <td>2.70</td>\n",
              "      <td>1</td>\n",
              "      <td>False.</td>\n",
              "    </tr>\n",
              "    <tr>\n",
              "      <th>1</th>\n",
              "      <td>OH</td>\n",
              "      <td>107</td>\n",
              "      <td>415</td>\n",
              "      <td>371-7191</td>\n",
              "      <td>no</td>\n",
              "      <td>yes</td>\n",
              "      <td>26</td>\n",
              "      <td>161.6</td>\n",
              "      <td>123</td>\n",
              "      <td>27.47</td>\n",
              "      <td>195.5</td>\n",
              "      <td>103</td>\n",
              "      <td>16.62</td>\n",
              "      <td>254.4</td>\n",
              "      <td>103</td>\n",
              "      <td>11.45</td>\n",
              "      <td>13.7</td>\n",
              "      <td>3</td>\n",
              "      <td>3.70</td>\n",
              "      <td>1</td>\n",
              "      <td>False.</td>\n",
              "    </tr>\n",
              "    <tr>\n",
              "      <th>2</th>\n",
              "      <td>NJ</td>\n",
              "      <td>137</td>\n",
              "      <td>415</td>\n",
              "      <td>358-1921</td>\n",
              "      <td>no</td>\n",
              "      <td>no</td>\n",
              "      <td>0</td>\n",
              "      <td>243.4</td>\n",
              "      <td>114</td>\n",
              "      <td>41.38</td>\n",
              "      <td>121.2</td>\n",
              "      <td>110</td>\n",
              "      <td>10.30</td>\n",
              "      <td>162.6</td>\n",
              "      <td>104</td>\n",
              "      <td>7.32</td>\n",
              "      <td>12.2</td>\n",
              "      <td>5</td>\n",
              "      <td>3.29</td>\n",
              "      <td>0</td>\n",
              "      <td>False.</td>\n",
              "    </tr>\n",
              "    <tr>\n",
              "      <th>3</th>\n",
              "      <td>OH</td>\n",
              "      <td>84</td>\n",
              "      <td>408</td>\n",
              "      <td>375-9999</td>\n",
              "      <td>yes</td>\n",
              "      <td>no</td>\n",
              "      <td>0</td>\n",
              "      <td>299.4</td>\n",
              "      <td>71</td>\n",
              "      <td>50.90</td>\n",
              "      <td>61.9</td>\n",
              "      <td>88</td>\n",
              "      <td>5.26</td>\n",
              "      <td>196.9</td>\n",
              "      <td>89</td>\n",
              "      <td>8.86</td>\n",
              "      <td>6.6</td>\n",
              "      <td>7</td>\n",
              "      <td>1.78</td>\n",
              "      <td>2</td>\n",
              "      <td>False.</td>\n",
              "    </tr>\n",
              "    <tr>\n",
              "      <th>4</th>\n",
              "      <td>OK</td>\n",
              "      <td>75</td>\n",
              "      <td>415</td>\n",
              "      <td>330-6626</td>\n",
              "      <td>yes</td>\n",
              "      <td>no</td>\n",
              "      <td>0</td>\n",
              "      <td>166.7</td>\n",
              "      <td>113</td>\n",
              "      <td>28.34</td>\n",
              "      <td>148.3</td>\n",
              "      <td>122</td>\n",
              "      <td>12.61</td>\n",
              "      <td>186.9</td>\n",
              "      <td>121</td>\n",
              "      <td>8.41</td>\n",
              "      <td>10.1</td>\n",
              "      <td>3</td>\n",
              "      <td>2.73</td>\n",
              "      <td>3</td>\n",
              "      <td>False.</td>\n",
              "    </tr>\n",
              "  </tbody>\n",
              "</table>\n",
              "</div>"
            ],
            "text/plain": [
              "  state  account_length  ...  number_customer_service_calls  churned\n",
              "0    KS             128  ...                              1   False.\n",
              "1    OH             107  ...                              1   False.\n",
              "2    NJ             137  ...                              0   False.\n",
              "3    OH              84  ...                              2   False.\n",
              "4    OK              75  ...                              3   False.\n",
              "\n",
              "[5 rows x 21 columns]"
            ]
          },
          "metadata": {
            "tags": []
          },
          "execution_count": 3
        }
      ]
    },
    {
      "cell_type": "code",
      "metadata": {
        "colab_type": "code",
        "id": "C99Z9b7ai0Mm",
        "outputId": "6e127330-ba2a-4ff6-c341-779e53a98f2e",
        "colab": {
          "base_uri": "https://localhost:8080/",
          "height": 51
        }
      },
      "source": [
        "print (\"Num of entries: \" + str(churn_df.shape[0])) \n",
        "print (\"Num of features: \" + str(churn_df.shape[1])) "
      ],
      "execution_count": 0,
      "outputs": [
        {
          "output_type": "stream",
          "text": [
            "Num of entries: 5000\n",
            "Num of features: 21\n"
          ],
          "name": "stdout"
        }
      ]
    },
    {
      "cell_type": "markdown",
      "metadata": {
        "colab_type": "text",
        "id": "OCglmJ9Oi0Mo"
      },
      "source": [
        "### Part 1.2: Data cleaning"
      ]
    },
    {
      "cell_type": "code",
      "metadata": {
        "id": "qoEv4T3G91rk",
        "colab_type": "code",
        "outputId": "d5d4f1e3-bded-47dc-eccc-2dafb6e52d30",
        "colab": {
          "base_uri": "https://localhost:8080/",
          "height": 391
        }
      },
      "source": [
        "#data cleaning#1: missing value\n",
        "churn_df.isnull().sum()\n",
        "#pd.isnull(churn_df).any(axis=0)\n",
        "#churn_df[pd.isnull(churn_df).any(axis=1)]"
      ],
      "execution_count": 0,
      "outputs": [
        {
          "output_type": "execute_result",
          "data": {
            "text/plain": [
              "state                            0\n",
              "account_length                   0\n",
              "area_code                        0\n",
              "phone_number                     0\n",
              "intl_plan                        0\n",
              "voice_mail_plan                  0\n",
              "number_vmail_messages            0\n",
              "total_day_minutes                0\n",
              "total_day_calls                  0\n",
              "total_day_charge                 0\n",
              "total_eve_minutes                0\n",
              "total_eve_calls                  0\n",
              "total_eve_charge                 0\n",
              "total_night_minutes              0\n",
              "total_night_calls                0\n",
              "total_night_charge               0\n",
              "total_intl_minutes               0\n",
              "total_intl_calls                 0\n",
              "total_intl_charge                0\n",
              "number_customer_service_calls    0\n",
              "churned                          0\n",
              "dtype: int64"
            ]
          },
          "metadata": {
            "tags": []
          },
          "execution_count": 5
        }
      ]
    },
    {
      "cell_type": "code",
      "metadata": {
        "id": "D5GCAupt_KjO",
        "colab_type": "code",
        "outputId": "8dfdb65c-04b3-480a-ac7f-956cbe5b5425",
        "colab": {
          "base_uri": "https://localhost:8080/",
          "height": 459
        }
      },
      "source": [
        "#data cleaning#2: format checking\n",
        "churn_df.info()"
      ],
      "execution_count": 0,
      "outputs": [
        {
          "output_type": "stream",
          "text": [
            "<class 'pandas.core.frame.DataFrame'>\n",
            "RangeIndex: 5000 entries, 0 to 4999\n",
            "Data columns (total 21 columns):\n",
            "state                            5000 non-null object\n",
            "account_length                   5000 non-null int64\n",
            "area_code                        5000 non-null int64\n",
            "phone_number                     5000 non-null object\n",
            "intl_plan                        5000 non-null object\n",
            "voice_mail_plan                  5000 non-null object\n",
            "number_vmail_messages            5000 non-null int64\n",
            "total_day_minutes                5000 non-null float64\n",
            "total_day_calls                  5000 non-null int64\n",
            "total_day_charge                 5000 non-null float64\n",
            "total_eve_minutes                5000 non-null float64\n",
            "total_eve_calls                  5000 non-null int64\n",
            "total_eve_charge                 5000 non-null float64\n",
            "total_night_minutes              5000 non-null float64\n",
            "total_night_calls                5000 non-null int64\n",
            "total_night_charge               5000 non-null float64\n",
            "total_intl_minutes               5000 non-null float64\n",
            "total_intl_calls                 5000 non-null int64\n",
            "total_intl_charge                5000 non-null float64\n",
            "number_customer_service_calls    5000 non-null int64\n",
            "churned                          5000 non-null object\n",
            "dtypes: float64(8), int64(8), object(5)\n",
            "memory usage: 820.4+ KB\n"
          ],
          "name": "stdout"
        }
      ]
    },
    {
      "cell_type": "code",
      "metadata": {
        "id": "IDU5seqV7Ml5",
        "colab_type": "code",
        "outputId": "152d8e1e-3cbf-4522-b32a-0e7ab98c6a2e",
        "colab": {
          "base_uri": "https://localhost:8080/",
          "height": 69
        }
      },
      "source": [
        "#data cleaning#3: logical mistake--duplication\n",
        "churn_df[churn_df.duplicated()]"
      ],
      "execution_count": 0,
      "outputs": [
        {
          "output_type": "execute_result",
          "data": {
            "text/html": [
              "<div>\n",
              "<style scoped>\n",
              "    .dataframe tbody tr th:only-of-type {\n",
              "        vertical-align: middle;\n",
              "    }\n",
              "\n",
              "    .dataframe tbody tr th {\n",
              "        vertical-align: top;\n",
              "    }\n",
              "\n",
              "    .dataframe thead th {\n",
              "        text-align: right;\n",
              "    }\n",
              "</style>\n",
              "<table border=\"1\" class=\"dataframe\">\n",
              "  <thead>\n",
              "    <tr style=\"text-align: right;\">\n",
              "      <th></th>\n",
              "      <th>state</th>\n",
              "      <th>account_length</th>\n",
              "      <th>area_code</th>\n",
              "      <th>phone_number</th>\n",
              "      <th>intl_plan</th>\n",
              "      <th>voice_mail_plan</th>\n",
              "      <th>number_vmail_messages</th>\n",
              "      <th>total_day_minutes</th>\n",
              "      <th>total_day_calls</th>\n",
              "      <th>total_day_charge</th>\n",
              "      <th>total_eve_minutes</th>\n",
              "      <th>total_eve_calls</th>\n",
              "      <th>total_eve_charge</th>\n",
              "      <th>total_night_minutes</th>\n",
              "      <th>total_night_calls</th>\n",
              "      <th>total_night_charge</th>\n",
              "      <th>total_intl_minutes</th>\n",
              "      <th>total_intl_calls</th>\n",
              "      <th>total_intl_charge</th>\n",
              "      <th>number_customer_service_calls</th>\n",
              "      <th>churned</th>\n",
              "    </tr>\n",
              "  </thead>\n",
              "  <tbody>\n",
              "  </tbody>\n",
              "</table>\n",
              "</div>"
            ],
            "text/plain": [
              "Empty DataFrame\n",
              "Columns: [state, account_length, area_code, phone_number, intl_plan, voice_mail_plan, number_vmail_messages, total_day_minutes, total_day_calls, total_day_charge, total_eve_minutes, total_eve_calls, total_eve_charge, total_night_minutes, total_night_calls, total_night_charge, total_intl_minutes, total_intl_calls, total_intl_charge, number_customer_service_calls, churned]\n",
              "Index: []"
            ]
          },
          "metadata": {
            "tags": []
          },
          "execution_count": 7
        }
      ]
    },
    {
      "cell_type": "code",
      "metadata": {
        "colab_type": "code",
        "id": "2Vf8iYmWi0Mq",
        "scrolled": true,
        "outputId": "27d4df1c-3ecd-4aba-8201-b5fac033f384",
        "colab": {
          "base_uri": "https://localhost:8080/",
          "height": 34
        }
      },
      "source": [
        "#data cleaning#3: logical mistake--unreasonable value\n",
        "churn_df['intl_plan'][0]\n",
        "churn_df['churned'][0]\n",
        "churn_df['voice_mail_plan'][0]"
      ],
      "execution_count": 0,
      "outputs": [
        {
          "output_type": "execute_result",
          "data": {
            "text/plain": [
              "' yes'"
            ]
          },
          "metadata": {
            "tags": []
          },
          "execution_count": 8
        }
      ]
    },
    {
      "cell_type": "code",
      "metadata": {
        "colab_type": "code",
        "id": "3lpwxvQfi0Mt",
        "colab": {}
      },
      "source": [
        "# remove the heading and trailing whitespaces\n",
        "churn_df['voice_mail_plan'] = churn_df['voice_mail_plan'].apply(lambda x: x.strip())\n",
        "churn_df['intl_plan'] = churn_df['intl_plan'].apply(lambda x: x.strip())\n",
        "churn_df['churned'] = churn_df['churned'].apply(lambda x: x.strip())"
      ],
      "execution_count": 0,
      "outputs": []
    },
    {
      "cell_type": "code",
      "metadata": {
        "colab_type": "code",
        "id": "kcyHhHKHZN2p",
        "outputId": "da368f27-a868-475a-fcb3-abdc6a76402d",
        "colab": {
          "base_uri": "https://localhost:8080/",
          "height": 34
        }
      },
      "source": [
        "# check the categorical feature after manipulation\n",
        "churn_df['voice_mail_plan'][0]"
      ],
      "execution_count": 0,
      "outputs": [
        {
          "output_type": "execute_result",
          "data": {
            "text/plain": [
              "'yes'"
            ]
          },
          "metadata": {
            "tags": []
          },
          "execution_count": 10
        }
      ]
    },
    {
      "cell_type": "code",
      "metadata": {
        "colab_type": "code",
        "id": "rJ0AdxwLi0Mz",
        "scrolled": false,
        "outputId": "ae77efc5-3166-47be-cd64-e887d1d6b460",
        "colab": {
          "base_uri": "https://localhost:8080/",
          "height": 269
        }
      },
      "source": [
        "#data cleaning#3: logical mistake--outlier\n",
        "%matplotlib inline\n",
        "import matplotlib.pyplot as plt\n",
        "import seaborn as sns \n",
        "\n",
        "def iqr_outlier_rm(dt_input):\n",
        "  lq,uq=np.percentile(dt_input,[25,75])\n",
        "  lower_l=lq - 1.5*(uq-lq)\n",
        "  upper_l=uq + 1.5*(uq-lq)\n",
        "  return dt_input[(dt_input >=lower_l)&(dt_input<=upper_l)]\n",
        "  \n",
        "dt_churn=iqr_outlier_rm(churn_df[[\"account_length\", \"number_vmail_messages\", \"total_day_minutes\",\n",
        "                    \"total_day_calls\", \"total_day_charge\", \"total_eve_minutes\",\n",
        "                    \"total_eve_calls\", \"total_eve_charge\", \"total_night_minutes\",\n",
        "                    \"total_night_calls\", \"total_intl_minutes\", \"total_intl_calls\",\n",
        "                    \"total_intl_charge\"]])\n",
        "sns.boxplot(dt_churn,orient='v')"
      ],
      "execution_count": 0,
      "outputs": [
        {
          "output_type": "execute_result",
          "data": {
            "text/plain": [
              "<matplotlib.axes._subplots.AxesSubplot at 0x7f638104f3c8>"
            ]
          },
          "metadata": {
            "tags": []
          },
          "execution_count": 11
        },
        {
          "output_type": "display_data",
          "data": {
            "image/png": "[encoded data removed]",
            "text/plain": [
              "<Figure size 432x288 with 1 Axes>"
            ]
          },
          "metadata": {
            "tags": []
          }
        }
      ]
    },
    {
      "cell_type": "code",
      "metadata": {
        "id": "VAoqVekOGh9V",
        "colab_type": "code",
        "colab": {}
      },
      "source": [
        "#data cleaning#4: remove unnecessary features--based on common sense\n",
        "to_drop = ['area_code','phone_number']\n",
        "churn_1st_drop = churn_df.drop(to_drop, axis=1)"
      ],
      "execution_count": 0,
      "outputs": []
    },
    {
      "cell_type": "code",
      "metadata": {
        "colab_type": "code",
        "id": "4DKTTdB6i0M2",
        "outputId": "69e5004e-2006-4779-cefe-a80db8b2de79",
        "colab": {
          "base_uri": "https://localhost:8080/",
          "height": 403
        }
      },
      "source": [
        "#data cleaning#4: remove unnecessary features--based on correlation between all features\n",
        "corr = churn_df[[\"account_length\", \"number_vmail_messages\", \"total_day_minutes\",\n",
        "                    \"total_day_calls\", \"total_day_charge\", \"total_eve_minutes\",\n",
        "                    \"total_eve_calls\", \"total_eve_charge\", \"total_night_minutes\",\n",
        "                    \"total_night_calls\", \"total_intl_minutes\", \"total_intl_calls\",\n",
        "                    \"total_intl_charge\"]].corr()\n",
        "sns.heatmap(corr)"
      ],
      "execution_count": 0,
      "outputs": [
        {
          "output_type": "execute_result",
          "data": {
            "text/plain": [
              "<matplotlib.axes._subplots.AxesSubplot at 0x7f638bceec50>"
            ]
          },
          "metadata": {
            "tags": []
          },
          "execution_count": 13
        },
        {
          "output_type": "display_data",
          "data": {
            "image/png": "[encoded data removed]",
            "text/plain": [
              "<Figure size 432x288 with 2 Axes>"
            ]
          },
          "metadata": {
            "tags": []
          }
        }
      ]
    },
    {
      "cell_type": "code",
      "metadata": {
        "id": "eQJKQgfaHi-F",
        "colab_type": "code",
        "colab": {}
      },
      "source": [
        "#data cleaning#4: remove unnecessary features--based on correlation between all features\n",
        "to_drop = ['total_day_charge','total_eve_charge','total_intl_charge']\n",
        "churn_2nd_drop = churn_1st_drop.drop(to_drop, axis=1)"
      ],
      "execution_count": 0,
      "outputs": []
    },
    {
      "cell_type": "code",
      "metadata": {
        "id": "nplyPDlpvbot",
        "colab_type": "code",
        "outputId": "2c951e73-fdfc-465f-fbea-163f436d9428",
        "colab": {
          "base_uri": "https://localhost:8080/",
          "height": 51
        }
      },
      "source": [
        "print (\"Num of entries: \" + str(churn_2nd_drop.shape[0])) \n",
        "print (\"Num of features: \" + str(churn_2nd_drop.shape[1])) "
      ],
      "execution_count": 0,
      "outputs": [
        {
          "output_type": "stream",
          "text": [
            "Num of entries: 5000\n",
            "Num of features: 16\n"
          ],
          "name": "stdout"
        }
      ]
    },
    {
      "cell_type": "markdown",
      "metadata": {
        "colab_type": "text",
        "id": "aFa4d6t3i0NH"
      },
      "source": [
        "# Part 2: Feature Preprocessing"
      ]
    },
    {
      "cell_type": "code",
      "metadata": {
        "colab_type": "code",
        "id": "4ec5r_Qdi0NL",
        "colab": {}
      },
      "source": [
        "# Get ground truth data\n",
        "y = np.where(churn_2nd_drop['churned'] == 'True.',1,0)\n",
        "to_drop = ['churned']\n",
        "churn_3rd_drop= churn_2nd_drop.drop(to_drop, axis=1)\n",
        "# converte'yes' and 'no' to boolean values\n",
        "yes_no_cols = [\"intl_plan\",\"voice_mail_plan\"]\n",
        "churn_3rd_drop[yes_no_cols] = churn_3rd_drop[yes_no_cols] == 'yes'\n",
        "#sklearn.preprocessing.OneHotEncoder\n",
        "churn_final = pd.get_dummies(churn_3rd_drop, columns=['state'])\n",
        "X = churn_final\n",
        "X.info()"
      ],
      "execution_count": 0,
      "outputs": []
    },
    {
      "cell_type": "code",
      "metadata": {
        "colab_type": "code",
        "id": "rzCo_GC97rGd",
        "outputId": "be722730-741f-41ab-a1f6-cac1d646f5e7",
        "colab": {
          "base_uri": "https://localhost:8080/",
          "height": 85
        }
      },
      "source": [
        "# check the propotion of y = 1\n",
        "print (\"the proportion of churn (%) : \" + str(y.sum() / y.shape * 100))\n",
        "print(y.sum() / y.shape * 100)\n",
        "print (y.shape)\n",
        "print (y.sum())"
      ],
      "execution_count": 0,
      "outputs": [
        {
          "output_type": "stream",
          "text": [
            "the proportion of churn (%) : [14.14]\n",
            "[14.14]\n",
            "(5000,)\n",
            "707\n"
          ],
          "name": "stdout"
        }
      ]
    },
    {
      "cell_type": "markdown",
      "metadata": {
        "colab_type": "text",
        "id": "q3x9ySX_i0Nd"
      },
      "source": [
        "# Part 3: Model Training and Result Evaluation"
      ]
    },
    {
      "cell_type": "markdown",
      "metadata": {
        "colab_type": "text",
        "id": "77OjmSl9i0Nf"
      },
      "source": [
        "### Part 3.1: Split dataset"
      ]
    },
    {
      "cell_type": "code",
      "metadata": {
        "colab_type": "code",
        "id": "Uay8Md5li0Nh",
        "outputId": "e47ef42e-18ed-498e-fc0d-23cf82b892bc",
        "colab": {
          "base_uri": "https://localhost:8080/",
          "height": 51
        }
      },
      "source": [
        "from sklearn import model_selection\n",
        "\n",
        "# Reserve 20% for testing\n",
        "X_train, X_test, y_train, y_test = model_selection.train_test_split(X, y, test_size=0.2)\n",
        "print('training data has %d observation with %d features'% X_train.shape)\n",
        "print('test data has %d observation with %d features'% X_test.shape)"
      ],
      "execution_count": 0,
      "outputs": [
        {
          "output_type": "stream",
          "text": [
            "training data has 4000 observation with 65 features\n",
            "test data has 1000 observation with 65 features\n"
          ],
          "name": "stdout"
        }
      ]
    },
    {
      "cell_type": "code",
      "metadata": {
        "colab_type": "code",
        "id": "JuPhtUkJi0NW",
        "colab": {}
      },
      "source": [
        "#Standarized the data\n",
        "from sklearn.preprocessing import StandardScaler\n",
        "scaler = StandardScaler()\n",
        "X_train = scaler.fit_transform(X_train) \n",
        "X_test = scaler.transform(X_test)"
      ],
      "execution_count": 0,
      "outputs": []
    },
    {
      "cell_type": "markdown",
      "metadata": {
        "colab_type": "text",
        "id": "c4UTtCQTi0Nl"
      },
      "source": [
        "### Part 3.2: Model Training and Selection"
      ]
    },
    {
      "cell_type": "code",
      "metadata": {
        "cellView": "both",
        "colab_type": "code",
        "id": "EAhSxINLi0Nl",
        "colab": {}
      },
      "source": [
        "#@title build models \n",
        "from sklearn.ensemble import RandomForestClassifier\n",
        "from sklearn.neighbors import KNeighborsClassifier \n",
        "from sklearn.linear_model import LogisticRegression\n",
        "from sklearn.svm import SVC \n",
        "\n",
        "# Logistic Regression\n",
        "classifier_logistic = LogisticRegression()\n",
        "\n",
        "# K Nearest Neighbors\n",
        "classifier_KNN = KNeighborsClassifier()\n",
        "\n",
        "# SVM\n",
        "classifier_SVC = SVC()\n",
        "\n",
        "# Random Forest\n",
        "classifier_RF = RandomForestClassifier()"
      ],
      "execution_count": 0,
      "outputs": []
    },
    {
      "cell_type": "code",
      "metadata": {
        "colab_type": "code",
        "id": "Av0IRSoBQ3pe",
        "outputId": "63e1fc2e-7690-45d1-d340-3f60368ca0f5",
        "colab": {
          "base_uri": "https://localhost:8080/",
          "height": 34
        }
      },
      "source": [
        "# Train the model\n",
        "classifier_logistic.fit(X_train, y_train)\n",
        "classifier_logistic.predict(X_test)\n",
        "classifier_logistic.score(X_test, y_test)"
      ],
      "execution_count": 0,
      "outputs": [
        {
          "output_type": "execute_result",
          "data": {
            "text/plain": [
              "0.86"
            ]
          },
          "metadata": {
            "tags": []
          },
          "execution_count": 21
        }
      ]
    },
    {
      "cell_type": "code",
      "metadata": {
        "colab_type": "code",
        "id": "1OCgNSNri0Nn",
        "outputId": "b9a07b2a-3b6f-4961-87b3-40e7e815b34f",
        "colab": {
          "base_uri": "https://localhost:8080/",
          "height": 153
        }
      },
      "source": [
        "# Use 10-fold Cross Validation to get the accuracy for different models\n",
        "model_names = ['Logistic Regression','KNN','Random Forest','SVM']\n",
        "model_list = [classifier_logistic, classifier_KNN, classifier_RF, classifier_SVC]\n",
        "count = 0\n",
        "\n",
        "for classifier in model_list:\n",
        "    cv_score = model_selection.cross_val_score(classifier, X_train, y_train, cv=10)\n",
        "    print(cv_score)\n",
        "    print('Model accuracy of %s is: %.3f'%(model_names[count],cv_score.mean()))\n",
        "    count += 1"
      ],
      "execution_count": 0,
      "outputs": [
        {
          "output_type": "stream",
          "text": [
            "[0.8725 0.875  0.8575 0.845  0.88   0.845  0.88   0.855  0.885  0.86  ]\n",
            "Model accuracy of Logistic Regression is: 0.865\n",
            "[0.8625 0.875  0.8675 0.8475 0.875  0.87   0.865  0.855  0.8675 0.87  ]\n",
            "Model accuracy of KNN is: 0.865\n",
            "[0.95   0.9475 0.93   0.925  0.935  0.9275 0.955  0.93   0.955  0.9525]\n",
            "Model accuracy of Random Forest is: 0.941\n",
            "[0.8675 0.8675 0.8675 0.855  0.875  0.8625 0.8775 0.8625 0.8625 0.8775]\n",
            "Model accuracy of SVM is: 0.868\n"
          ],
          "name": "stdout"
        }
      ]
    },
    {
      "cell_type": "markdown",
      "metadata": {
        "colab_type": "text",
        "id": "7J-23z78i0Ns"
      },
      "source": [
        "###Part 3.3: Use Grid Search to Find Optimal Hyperparameters"
      ]
    },
    {
      "cell_type": "code",
      "metadata": {
        "colab_type": "code",
        "id": "Hpe9PEAAi0Nt",
        "colab": {}
      },
      "source": [
        "from sklearn.model_selection import GridSearchCV \n",
        "\n",
        "# helper function for printing out grid search results \n",
        "def print_grid_search_metrics(gs):\n",
        "    print (\"Best score: %0.3f\" % gs.best_score_)\n",
        "    print (\"Best parameters set:\")\n",
        "    best_parameters = gs.best_params_\n",
        "    for param_name in sorted(parameters.keys()):\n",
        "        print(\"\\t%s: %r\" % (param_name, best_parameters[param_name]))"
      ],
      "execution_count": 0,
      "outputs": []
    },
    {
      "cell_type": "markdown",
      "metadata": {
        "colab_type": "text",
        "id": "qvYo9I5Ti0Nv"
      },
      "source": [
        "#### Part 3.3.1: Find Optimal Hyperparameters: LogisticRegression"
      ]
    },
    {
      "cell_type": "code",
      "metadata": {
        "colab_type": "code",
        "id": "wOc48syxi0Nx",
        "scrolled": true,
        "outputId": "50118723-fa9a-45a7-df91-081389c1421f",
        "colab": {
          "base_uri": "https://localhost:8080/",
          "height": 85
        }
      },
      "source": [
        "# Possible hyperparamter options for Logistic Regression Regularization \n",
        "parameters = {\n",
        "    'penalty':('l1', 'l2'), \n",
        "    'C':(0.01, 0.1, 1)\n",
        "}\n",
        "Grid_LR = GridSearchCV(LogisticRegression(),parameters, cv=10)\n",
        "Grid_LR.fit(X_train, y_train)\n",
        "print_grid_search_metrics(Grid_LR)\n",
        "best_LR_model = Grid_LR.best_estimator_"
      ],
      "execution_count": 0,
      "outputs": [
        {
          "output_type": "stream",
          "text": [
            "Best score: 0.866\n",
            "Best parameters set:\n",
            "\tC: 0.01\n",
            "\tpenalty: 'l2'\n"
          ],
          "name": "stdout"
        }
      ]
    },
    {
      "cell_type": "markdown",
      "metadata": {
        "colab_type": "text",
        "id": "9u9YFedOi0N6"
      },
      "source": [
        "#### Part 3.3.2: Find Optimal Hyperparameters: KNN"
      ]
    },
    {
      "cell_type": "code",
      "metadata": {
        "colab_type": "code",
        "id": "o78422XVi0N6",
        "outputId": "b67bf5c0-6152-4fb7-a791-4ade2a464d32",
        "colab": {
          "base_uri": "https://localhost:8080/",
          "height": 68
        }
      },
      "source": [
        "# Possible hyperparamter options for KNN --choose the best k\n",
        "parameters = {\n",
        "    'n_neighbors':[1,10,100] \n",
        "}\n",
        "Grid_KNN = GridSearchCV(KNeighborsClassifier(),parameters, cv=10)\n",
        "Grid_KNN.fit(X_train, y_train)\n",
        "print_grid_search_metrics(Grid_KNN)\n",
        "best_KNN_model = Grid_KNN.best_estimator_"
      ],
      "execution_count": 0,
      "outputs": [
        {
          "output_type": "stream",
          "text": [
            "Best score: 0.862\n",
            "Best parameters set:\n",
            "\tn_neighbors: 10\n"
          ],
          "name": "stdout"
        }
      ]
    },
    {
      "cell_type": "markdown",
      "metadata": {
        "colab_type": "text",
        "id": "nKn_oKLSi0OB"
      },
      "source": [
        "#### Part 3.3.3: Find Optimal Hyperparameters: Random Forest\n",
        "\n"
      ]
    },
    {
      "cell_type": "code",
      "metadata": {
        "colab_type": "code",
        "id": "NniAZIPfi0OC",
        "outputId": "c357f8bf-076f-451c-f87c-90a34d4b7ec3",
        "colab": {
          "base_uri": "https://localhost:8080/",
          "height": 68
        }
      },
      "source": [
        "# Possible hyperparamter options for Random Forest--choose the best number of trees\n",
        "parameters = {\n",
        "    'n_estimators' : [5,10,50,80,100]\n",
        "}\n",
        "Grid_RF = GridSearchCV(RandomForestClassifier(),parameters, cv=10)\n",
        "Grid_RF.fit(X_train, y_train)\n",
        "print_grid_search_metrics(Grid_RF)\n",
        "best_RF_model = Grid_RF.best_estimator_"
      ],
      "execution_count": 0,
      "outputs": [
        {
          "output_type": "stream",
          "text": [
            "Best score: 0.943\n",
            "Best parameters set:\n",
            "\tn_estimators: 100\n"
          ],
          "name": "stdout"
        }
      ]
    },
    {
      "cell_type": "markdown",
      "metadata": {
        "id": "iM9Ik4NtfFne",
        "colab_type": "text"
      },
      "source": [
        "#### Part 3.3.4: Find Optimal Hyperparameters: SVM"
      ]
    },
    {
      "cell_type": "code",
      "metadata": {
        "id": "RgVku5NFuGbX",
        "colab_type": "code",
        "outputId": "ca1acfed-203e-4bdd-d3a5-62c06ceb5455",
        "colab": {
          "base_uri": "https://localhost:8080/",
          "height": 85
        }
      },
      "source": [
        "parameters = {'gamma': [0.01, 0.1, 1],\n",
        "                     'C': [0.01, 0.1, 1]}                   \n",
        "Grid_SVM = GridSearchCV(classifier_SVC,parameters, cv=10)\n",
        "Grid_SVM.fit(X_train, y_train)\n",
        "print_grid_search_metrics(Grid_SVM)\n",
        "best_SVM_model = Grid_SVM.best_estimator_"
      ],
      "execution_count": 0,
      "outputs": [
        {
          "output_type": "stream",
          "text": [
            "Best score: 0.865\n",
            "Best parameters set:\n",
            "\tC: 1\n",
            "\tgamma: 0.01\n"
          ],
          "name": "stdout"
        }
      ]
    },
    {
      "cell_type": "markdown",
      "metadata": {
        "colab_type": "text",
        "id": "xxDAOrGIi0OI"
      },
      "source": [
        "### Part 3.4: Model Evaluation - Confusion Matrix (Precision, Recall, Accuracy)"
      ]
    },
    {
      "cell_type": "code",
      "metadata": {
        "colab_type": "code",
        "id": "o-tP94iFi0OI",
        "colab": {}
      },
      "source": [
        "from sklearn.metrics import confusion_matrix\n",
        "from sklearn.metrics import classification_report\n",
        "from sklearn.metrics import precision_score\n",
        "from sklearn.metrics import recall_score\n",
        "\n",
        "# calculate accuracy, precision and recall, [[tn, fp],[]]\n",
        "def cal_evaluation(classifier, cm):\n",
        "    tn = cm[0][0]\n",
        "    fp = cm[0][1]\n",
        "    fn = cm[1][0]\n",
        "    tp = cm[1][1]\n",
        "    accuracy  = (tp + tn) / (tp + fp + fn + tn + 0.0)\n",
        "    precision = tp / (tp + fp + 0.0)\n",
        "    recall = tp / (tp + fn + 0.0)\n",
        "    print (classifier)\n",
        "    print (\"Accuracy is: %0.3f\" % accuracy)\n",
        "    print (\"precision is: %0.3f\" % precision)\n",
        "    print (\"recall is: %0.3f\" % recall)\n",
        "\n",
        "# print out confusion matrices\n",
        "def draw_confusion_matrices(confusion_matricies):\n",
        "    class_names = ['Not','Churn']\n",
        "    for cm in confusion_matrices:\n",
        "        classifier, cm = cm[0], cm[1]\n",
        "        cal_evaluation(classifier, cm)\n",
        "        fig = plt.figure()\n",
        "        ax = fig.add_subplot(111)\n",
        "        cax = ax.matshow(cm, interpolation='nearest',cmap=plt.get_cmap('Reds'))\n",
        "        plt.title('Confusion matrix for %s' % classifier)\n",
        "        fig.colorbar(cax)\n",
        "        ax.set_xticklabels([''] + class_names)\n",
        "        ax.set_yticklabels([''] + class_names)\n",
        "        plt.xlabel('Predicted')\n",
        "        plt.ylabel('True')\n",
        "        plt.show()"
      ],
      "execution_count": 0,
      "outputs": []
    },
    {
      "cell_type": "code",
      "metadata": {
        "colab_type": "code",
        "id": "OpSGaN49i0OL",
        "outputId": "2477866a-6cdc-4b29-8daa-0537defce8bf",
        "colab": {
          "base_uri": "https://localhost:8080/",
          "height": 1000
        }
      },
      "source": [
        "%matplotlib inline\n",
        "\n",
        "# Confusion matrix, accuracy, precison and recall for random forest and logistic regression\n",
        "confusion_matrices = [\n",
        "    (\"Random Forest\", confusion_matrix(y_test,best_RF_model.predict(X_test))),\n",
        "    (\"Logistic Regression\", confusion_matrix(y_test,best_LR_model.predict(X_test))),\n",
        "    (\"KNN\", confusion_matrix(y_test,best_KNN_model.predict(X_test))),\n",
        "    (\"SVM\", confusion_matrix(y_test,best_SVM_model.predict(X_test)))\n",
        "]\n",
        "\n",
        "draw_confusion_matrices(confusion_matrices)"
      ],
      "execution_count": 0,
      "outputs": [
        {
          "output_type": "stream",
          "text": [
            "Random Forest\n",
            "Accuracy is: 0.933\n",
            "precision is: 0.968\n",
            "recall is: 0.584\n"
          ],
          "name": "stdout"
        },
        {
          "output_type": "display_data",
          "data": {
            "image/png": "[encoded data removed]",
            "text/plain": [
              "<Figure size 432x288 with 2 Axes>"
            ]
          },
          "metadata": {
            "tags": []
          }
        },
        {
          "output_type": "stream",
          "text": [
            "Logistic Regression\n",
            "Accuracy is: 0.857\n",
            "precision is: 0.657\n",
            "recall is: 0.149\n"
          ],
          "name": "stdout"
        },
        {
          "output_type": "display_data",
          "data": {
            "image/png": "[encoded data removed]",
            "text/plain": [
              "<Figure size 432x288 with 2 Axes>"
            ]
          },
          "metadata": {
            "tags": []
          }
        },
        {
          "output_type": "stream",
          "text": [
            "KNN\n",
            "Accuracy is: 0.846\n",
            "precision is: 0.500\n",
            "recall is: 0.006\n"
          ],
          "name": "stdout"
        },
        {
          "output_type": "display_data",
          "data": {
            "image/png": "[encoded data removed]",
            "text/plain": [
              "<Figure size 432x288 with 2 Axes>"
            ]
          },
          "metadata": {
            "tags": []
          }
        },
        {
          "output_type": "stream",
          "text": [
            "SVM\n",
            "Accuracy is: 0.850\n",
            "precision is: 0.750\n",
            "recall is: 0.039\n"
          ],
          "name": "stdout"
        },
        {
          "output_type": "display_data",
          "data": {
            "image/png": "[encoded data removed]",
            "text/plain": [
              "<Figure size 432x288 with 2 Axes>"
            ]
          },
          "metadata": {
            "tags": []
          }
        }
      ]
    },
    {
      "cell_type": "markdown",
      "metadata": {
        "colab_type": "text",
        "id": "OvHlyhPBi0OT"
      },
      "source": [
        "### Part 3.4: Model Evaluation - ROC & AUC"
      ]
    },
    {
      "cell_type": "markdown",
      "metadata": {
        "colab_type": "text",
        "id": "jx_3XkgKi0OW"
      },
      "source": [
        "RandomForestClassifier, KNeighborsClassifier and LogisticRegression have predict_prob() function "
      ]
    },
    {
      "cell_type": "markdown",
      "metadata": {
        "colab_type": "text",
        "id": "-Os_ZLTvi0OX"
      },
      "source": [
        "#### Part 3.4.1: ROC of RF Model"
      ]
    },
    {
      "cell_type": "code",
      "metadata": {
        "colab_type": "code",
        "id": "UypvQMVBi0OY",
        "colab": {}
      },
      "source": [
        "from sklearn.metrics import roc_curve\n",
        "from sklearn import metrics\n",
        "\n",
        "# Use predict_proba to get the probability results of Random Forest\n",
        "y_pred_rf = best_RF_model.predict_proba(X_test)[:, 1]\n",
        "fpr_rf, tpr_rf, _ = roc_curve(y_test, y_pred_rf)"
      ],
      "execution_count": 0,
      "outputs": []
    },
    {
      "cell_type": "code",
      "metadata": {
        "colab_type": "code",
        "id": "s3PR-PdPi0Ob",
        "outputId": "e9387d9f-2136-49e4-d019-7dd2958f3237",
        "colab": {
          "base_uri": "https://localhost:8080/",
          "height": 295
        }
      },
      "source": [
        "# ROC curve of Random Forest result\n",
        "plt.figure(1)\n",
        "plt.plot([0, 1], [0, 1], 'k--')\n",
        "plt.plot(fpr_rf, tpr_rf, label='RF')\n",
        "plt.xlabel('False positive rate')\n",
        "plt.ylabel('True positive rate')\n",
        "plt.title('ROC curve - RF model')\n",
        "plt.legend(loc='best')\n",
        "plt.show()"
      ],
      "execution_count": 0,
      "outputs": [
        {
          "output_type": "display_data",
          "data": {
            "image/png": "[encoded data removed]",
            "text/plain": [
              "<Figure size 432x288 with 1 Axes>"
            ]
          },
          "metadata": {
            "tags": []
          }
        }
      ]
    },
    {
      "cell_type": "code",
      "metadata": {
        "colab_type": "code",
        "id": "R89IUMYDi0Oe",
        "outputId": "54f867ff-da14-4bbe-8bbb-58aea1cf7019",
        "colab": {
          "base_uri": "https://localhost:8080/",
          "height": 34
        }
      },
      "source": [
        "from sklearn import metrics\n",
        "\n",
        "# AUC score\n",
        "metrics.auc(fpr_rf,tpr_rf)"
      ],
      "execution_count": 0,
      "outputs": [
        {
          "output_type": "execute_result",
          "data": {
            "text/plain": [
              "0.9217133339473766"
            ]
          },
          "metadata": {
            "tags": []
          },
          "execution_count": 32
        }
      ]
    },
    {
      "cell_type": "markdown",
      "metadata": {
        "colab_type": "text",
        "id": "gHHurD8Ii0Oq"
      },
      "source": [
        "# Part 4: Feature Importance"
      ]
    },
    {
      "cell_type": "markdown",
      "metadata": {
        "colab_type": "text",
        "id": "uqs41ydLi0O_"
      },
      "source": [
        "### Part 4.1:  Random Forest Model - Feature Importance Discussion"
      ]
    },
    {
      "cell_type": "code",
      "metadata": {
        "colab_type": "code",
        "id": "MPxUM2lei0PA",
        "outputId": "d211cda9-9090-414f-f352-c5b1dd305257",
        "colab": {
          "base_uri": "https://localhost:8080/",
          "height": 1000
        }
      },
      "source": [
        "# check feature importance of random forest for feature selection\n",
        "forest = RandomForestClassifier()\n",
        "forest.fit(X, y)\n",
        "\n",
        "importances = forest.feature_importances_\n",
        "\n",
        "# Print the feature ranking\n",
        "print(\"Feature importance ranking by Random Forest Model:\")\n",
        "for k,v in sorted(zip(map(lambda x: round(x, 4), importances), churn_final.columns), reverse=True):\n",
        "    print (v + \": \" + str(k))"
      ],
      "execution_count": 0,
      "outputs": [
        {
          "output_type": "stream",
          "text": [
            "Feature importance ranking by Random Forest Model:\n",
            "total_day_minutes: 0.2273\n",
            "number_customer_service_calls: 0.1088\n",
            "total_eve_minutes: 0.0797\n",
            "intl_plan: 0.0753\n",
            "total_intl_minutes: 0.0605\n",
            "total_intl_calls: 0.0502\n",
            "total_night_minutes: 0.0495\n",
            "total_night_charge: 0.0486\n",
            "account_length: 0.0414\n",
            "total_day_calls: 0.0404\n",
            "total_night_calls: 0.0394\n",
            "total_eve_calls: 0.0384\n",
            "number_vmail_messages: 0.022\n",
            "voice_mail_plan: 0.0168\n",
            "state_TX: 0.0041\n",
            "state_NJ: 0.0041\n",
            "state_WA: 0.0039\n",
            "state_MT: 0.0036\n",
            "state_MS: 0.0029\n",
            "state_OH: 0.0027\n",
            "state_ME: 0.0027\n",
            "state_WV: 0.0026\n",
            "state_MN: 0.0026\n",
            "state_MD: 0.0026\n",
            "state_NV: 0.0025\n",
            "state_CA: 0.0025\n",
            "state_OR: 0.0024\n",
            "state_UT: 0.0023\n",
            "state_SC: 0.0022\n",
            "state_NY: 0.0022\n",
            "state_DC: 0.0022\n",
            "state_MI: 0.0021\n",
            "state_CT: 0.0021\n",
            "state_AZ: 0.0021\n",
            "state_AR: 0.0021\n",
            "state_TN: 0.002\n",
            "state_MA: 0.002\n",
            "state_KS: 0.002\n",
            "state_IN: 0.002\n",
            "state_ND: 0.0019\n",
            "state_IL: 0.0018\n",
            "state_ID: 0.0018\n",
            "state_DE: 0.0018\n",
            "state_NC: 0.0017\n",
            "state_KY: 0.0017\n",
            "state_WY: 0.0016\n",
            "state_VA: 0.0016\n",
            "state_SD: 0.0016\n",
            "state_CO: 0.0016\n",
            "state_AL: 0.0016\n",
            "state_LA: 0.0015\n",
            "state_PA: 0.0014\n",
            "state_NM: 0.0014\n",
            "state_NH: 0.0014\n",
            "state_WI: 0.0013\n",
            "state_VT: 0.0013\n",
            "state_MO: 0.0013\n",
            "state_GA: 0.0013\n",
            "state_FL: 0.0013\n",
            "state_RI: 0.0012\n",
            "state_OK: 0.0012\n",
            "state_NE: 0.0012\n",
            "state_IA: 0.0011\n",
            "state_HI: 0.0007\n",
            "state_AK: 0.0007\n"
          ],
          "name": "stdout"
        }
      ]
    },
    {
      "cell_type": "markdown",
      "metadata": {
        "id": "C-Q7Auvd1Hlf",
        "colab_type": "text"
      },
      "source": [
        "##Conclusion from feature importance analysis:\n",
        "\n",
        "Those customers who has intial plan with the company and spend long time on phone calls and prefer calling service center very often, are likely churned users.\n",
        "\n",
        "\n",
        "\n",
        "##Recommendation for SGI:\n",
        "\n",
        "\n",
        "*   For those contracted and highly active customers who call service-center frequently, offerring them discount or promotes might be a good way to rescue the potential churn condition. \n",
        "*   Pay more attentions to complaints and start a training process to imporve service quality.\n",
        "\n",
        "##Future work for SGI:\n",
        "\n",
        "\n",
        "*   Define the most valuable customers by analyzing their main features. Keep maintaining good reputation and impression with those customers and sending them greetings and offers occasionally.\n",
        "*   Conduct competitor service study and systematically learn and compare with their service strategies.\n",
        "\n",
        "\n",
        "\n",
        "\n",
        "\n",
        "\n"
      ]
    }
  ]
}